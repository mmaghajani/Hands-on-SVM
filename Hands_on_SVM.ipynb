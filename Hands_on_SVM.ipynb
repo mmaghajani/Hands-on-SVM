{
 "cells": [
  {
   "cell_type": "markdown",
   "metadata": {
    "collapsed": true
   },
   "source": [
    "## Hands on SVM\n",
    "#### by MMA"
   ]
  },
  {
   "cell_type": "code",
   "execution_count": 1,
   "metadata": {},
   "outputs": [],
   "source": [
    "import numpy as np\n",
    "import cvxopt\n",
    "import cvxopt.solvers\n",
    "from scipy.io import loadmat "
   ]
  },
  {
   "cell_type": "markdown",
   "metadata": {},
   "source": [
    "#### Load Data"
   ]
  },
  {
   "cell_type": "code",
   "execution_count": 2,
   "metadata": {},
   "outputs": [],
   "source": [
    "data = loadmat('dataset/scene_train.mat')\n",
    "x_train = np.array(data['X'])\n",
    "y_train = np.array(data['Y'][0])\n",
    "y_train = y_train.astype(np.double)\n",
    "N = x_train.shape[0]\n",
    "C = 1"
   ]
  },
  {
   "cell_type": "markdown",
   "metadata": {},
   "source": [
    "#### Creates P matrix"
   ]
  },
  {
   "cell_type": "code",
   "execution_count": 3,
   "metadata": {},
   "outputs": [],
   "source": [
    "P = []\n",
    "for i in range(N):\n",
    "    row = []\n",
    "    for j in range(N):\n",
    "        row.append(y_train[i] * y_train[j] * \\\n",
    "                   np.matmul(x_train[i], np.transpose(x_train[j])))\n",
    "    P.append(row)\n",
    "P = cvxopt.matrix(P)"
   ]
  },
  {
   "cell_type": "markdown",
   "metadata": {},
   "source": [
    "#### Creats q matrix"
   ]
  },
  {
   "cell_type": "code",
   "execution_count": 4,
   "metadata": {},
   "outputs": [],
   "source": [
    "q = cvxopt.matrix(np.ones(N) * -1)"
   ]
  },
  {
   "cell_type": "markdown",
   "metadata": {},
   "source": [
    "#### Creates G and h matrix for inequality matrix"
   ]
  },
  {
   "cell_type": "code",
   "execution_count": 5,
   "metadata": {},
   "outputs": [],
   "source": [
    "tmp1 = np.diag(np.ones(N) * -1)\n",
    "tmp2 = np.identity(N)\n",
    "G = cvxopt.matrix(np.vstack((tmp1, tmp2)))\n",
    "\n",
    "tmp1 = np.zeros(N)\n",
    "tmp2 = np.ones(N) * C\n",
    "h = cvxopt.matrix(np.hstack((tmp1, tmp2)))"
   ]
  },
  {
   "cell_type": "markdown",
   "metadata": {},
   "source": [
    "#### Creates A and b matrix for equality matrix"
   ]
  },
  {
   "cell_type": "code",
   "execution_count": 6,
   "metadata": {},
   "outputs": [],
   "source": [
    "A = cvxopt.matrix(y_train, (1, N))\n",
    "b = cvxopt.matrix(0.0)"
   ]
  },
  {
   "cell_type": "markdown",
   "metadata": {},
   "source": [
    "#### Run QP solver"
   ]
  },
  {
   "cell_type": "code",
   "execution_count": 7,
   "metadata": {},
   "outputs": [
    {
     "name": "stdout",
     "output_type": "stream",
     "text": [
      "     pcost       dcost       gap    pres   dres\n 0: -3.6090e+02 -3.6103e+03  2e+04  3e+00  6e-13\n"
     ]
    },
    {
     "name": "stdout",
     "output_type": "stream",
     "text": [
      " 1: -2.3391e+02 -2.0645e+03  3e+03  3e-01  4e-13\n"
     ]
    },
    {
     "name": "stdout",
     "output_type": "stream",
     "text": [
      " 2: -2.0295e+02 -7.7093e+02  8e+02  6e-02  3e-13\n"
     ]
    },
    {
     "name": "stdout",
     "output_type": "stream",
     "text": [
      " 3: -2.0708e+02 -3.9279e+02  2e+02  1e-02  3e-13\n"
     ]
    },
    {
     "name": "stdout",
     "output_type": "stream",
     "text": [
      " 4: -2.1961e+02 -2.9187e+02  8e+01  3e-03  3e-13\n"
     ]
    },
    {
     "name": "stdout",
     "output_type": "stream",
     "text": [
      " 5: -2.2633e+02 -2.6562e+02  4e+01  1e-03  3e-13\n"
     ]
    },
    {
     "name": "stdout",
     "output_type": "stream",
     "text": [
      " 6: -2.2900e+02 -2.5346e+02  2e+01  2e-04  3e-13\n"
     ]
    },
    {
     "name": "stdout",
     "output_type": "stream",
     "text": [
      " 7: -2.3269e+02 -2.4312e+02  1e+01  3e-15  3e-13\n"
     ]
    },
    {
     "name": "stdout",
     "output_type": "stream",
     "text": [
      " 8: -2.3511e+02 -2.3839e+02  3e+00  3e-15  3e-13\n"
     ]
    },
    {
     "name": "stdout",
     "output_type": "stream",
     "text": [
      " 9: -2.3590e+02 -2.3698e+02  1e+00  2e-15  3e-13\n"
     ]
    },
    {
     "name": "stdout",
     "output_type": "stream",
     "text": [
      "10: -2.3626e+02 -2.3644e+02  2e-01  4e-15  4e-13\n"
     ]
    },
    {
     "name": "stdout",
     "output_type": "stream",
     "text": [
      "11: -2.3633e+02 -2.3634e+02  6e-03  7e-15  4e-13\n"
     ]
    },
    {
     "name": "stdout",
     "output_type": "stream",
     "text": [
      "12: -2.3634e+02 -2.3634e+02  1e-04  3e-15  3e-13\nOptimal solution found.\n"
     ]
    }
   ],
   "source": [
    "solution = cvxopt.solvers.qp(P, q, G, h, A, b)"
   ]
  },
  {
   "cell_type": "markdown",
   "metadata": {},
   "source": [
    "#### Derive Lagrange multipliers"
   ]
  },
  {
   "cell_type": "code",
   "execution_count": 8,
   "metadata": {},
   "outputs": [],
   "source": [
    "a = np.ravel(solution['x'])"
   ]
  },
  {
   "cell_type": "markdown",
   "metadata": {},
   "source": [
    "#### Support vectors have non zero lagrange multipliers"
   ]
  },
  {
   "cell_type": "code",
   "execution_count": 9,
   "metadata": {},
   "outputs": [],
   "source": [
    "sv = a > 1e-5\n",
    "ind = np.arange(len(a))[sv]\n",
    "a = a[sv]\n",
    "sv_x = x_train[sv]\n",
    "sv_y = y_train[sv]"
   ]
  },
  {
   "cell_type": "markdown",
   "metadata": {},
   "source": [
    "#### Derive weights and bias"
   ]
  },
  {
   "cell_type": "code",
   "execution_count": 10,
   "metadata": {},
   "outputs": [],
   "source": [
    "w = np.zeros(x_train.shape[1])\n",
    "for n in range(len(a)):\n",
    "    w += a[n] * sv_y[n] * sv_x[n]\n",
    "    \n",
    "w0 = sv_y[0] - np.matmul(w, sv_x[0])"
   ]
  },
  {
   "cell_type": "markdown",
   "metadata": {},
   "source": [
    "#### Run evaluation"
   ]
  },
  {
   "cell_type": "code",
   "execution_count": 11,
   "metadata": {},
   "outputs": [],
   "source": [
    "test_data = loadmat('dataset/scene_test.mat')\n",
    "x_test = np.array(test_data['X'])\n",
    "y_test = np.array(test_data['Y'][0])\n",
    "y_test = y_test.astype(np.double)"
   ]
  },
  {
   "cell_type": "code",
   "execution_count": 12,
   "metadata": {},
   "outputs": [],
   "source": [
    "y_predict = np.sign(w0 + np.matmul(x_test, w))"
   ]
  },
  {
   "cell_type": "code",
   "execution_count": 113,
   "metadata": {},
   "outputs": [
    {
     "name": "stdout",
     "output_type": "stream",
     "text": [
      "Precision :  0.09327548806941431\nRecall    :  0.8431372549019608\n"
     ]
    }
   ],
   "source": [
    "tp = 0\n",
    "fp = 0\n",
    "fn = 0\n",
    "for i in range(y_predict.shape[0]):\n",
    "    if y_predict[i] == y_test[i] and y_test[i] == 1:\n",
    "        tp += 1\n",
    "    elif y_predict[i] != y_test[i] and y_predict[i] == 1:\n",
    "        fp += 1\n",
    "    elif y_predict[i] != y_test[i] and y_predict[i] == -1:\n",
    "        fn += 1\n",
    "\n",
    "precision = tp / (tp + fp)\n",
    "recall = tp / (tp + fn)\n",
    "\n",
    "print(\"Precision : \", precision)\n",
    "print(\"Recall    : \", recall)"
   ]
  },
  {
   "cell_type": "code",
   "execution_count": null,
   "metadata": {},
   "outputs": [],
   "source": []
  }
 ],
 "metadata": {
  "kernelspec": {
   "display_name": "Python 2",
   "language": "python",
   "name": "python2"
  },
  "language_info": {
   "codemirror_mode": {
    "name": "ipython",
    "version": 2
   },
   "file_extension": ".py",
   "mimetype": "text/x-python",
   "name": "python",
   "nbconvert_exporter": "python",
   "pygments_lexer": "ipython2",
   "version": "2.7.6"
  }
 },
 "nbformat": 4,
 "nbformat_minor": 0
}
